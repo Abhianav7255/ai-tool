{
 "cells": [
  {
   "cell_type": "code",
   "execution_count": null,
   "id": "e8150181-26c2-4be0-bd11-b4ceeb078edd",
   "metadata": {},
   "outputs": [],
   "source": [
    "from spellchecker import Spellchecker\n",
    "\n",
    "def correct sentence (sentence): \n",
    "     spell-Spellchecker()\n",
    "     words=sentence.split() #converting sentence into multiple words.\n",
    "     corrected_words=[spell.correction (word) for word in words]\n",
    "     corrected_sentence=\" \".join(corrected_words)\n",
    "     return corrected_sentence"
   ]
  },
  {
   "cell_type": "code",
   "execution_count": null,
   "id": "2f2cf6ef-fdb5-4d49-8bfa-c211e9cd8f41",
   "metadata": {},
   "outputs": [],
   "source": [
    "misspelled_sentence=str(input(\"Enter the sentence: \"))\n",
    "corrected_sentence=correct_sentence (misspelled_sentence)\n",
    "print(\"Misspelled Sentence : {misspelled_sentence}\") \n",
    "print(\"corrected Sentence :  {corrected_sentence}\")"
   ]
  },
  {
   "cell_type": "code",
   "execution_count": null,
   "id": "dcdb2409-b50b-44f2-ab73-4850e20ec1e8",
   "metadata": {},
   "outputs": [],
   "source": []
  }
 ],
 "metadata": {
  "kernelspec": {
   "display_name": "Python 3 (ipykernel)",
   "language": "python",
   "name": "python3"
  },
  "language_info": {
   "codemirror_mode": {
    "name": "ipython",
    "version": 3
   },
   "file_extension": ".py",
   "mimetype": "text/x-python",
   "name": "python",
   "nbconvert_exporter": "python",
   "pygments_lexer": "ipython3",
   "version": "3.11.4"
  }
 },
 "nbformat": 4,
 "nbformat_minor": 5
}
